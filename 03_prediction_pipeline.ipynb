{
 "cells": [
  {
   "cell_type": "markdown",
   "id": "93ce6864",
   "metadata": {},
   "source": [
    "## Notebook d'application du modèle pour la génération de l'output"
   ]
  },
  {
   "cell_type": "code",
   "execution_count": 65,
   "id": "6b65dc83",
   "metadata": {},
   "outputs": [],
   "source": [
    "import pandas as pd\n",
    "from sklearn.linear_model import LogisticRegression"
   ]
  },
  {
   "cell_type": "code",
   "execution_count": 66,
   "id": "b05cc573",
   "metadata": {},
   "outputs": [],
   "source": [
    "train_df = pd.read_csv(\"./data/train.csv\", sep=\",\")\n",
    "test_df = pd.read_csv(\"./data/test.csv\", sep=\",\")"
   ]
  },
  {
   "cell_type": "code",
   "execution_count": 67,
   "id": "f0254068",
   "metadata": {},
   "outputs": [],
   "source": [
    "def prepare_df(df):\n",
    "    prepared_df = (\n",
    "        df\n",
    "        .copy(deep=True)\n",
    "        .drop(columns=[\"Name\", \"Sex\", \"Ticket\", \"Cabin\", \"Embarked\"])\n",
    "        .dropna()\n",
    "    )\n",
    "    return prepared_df"
   ]
  },
  {
   "cell_type": "code",
   "execution_count": 68,
   "id": "7c4e2536",
   "metadata": {},
   "outputs": [],
   "source": [
    "prepared_train_df = train_df.pipe(prepare_df)\n",
    "prepared_test_df = test_df.pipe(prepare_df)\n",
    "\n",
    "X_train = prepared_train_df.drop(columns=[\"Survived\", \"PassengerId\"])\n",
    "y_train = prepared_train_df.loc[:, \"Survived\"]\n",
    "X_test = prepared_test_df.drop(columns=[\"PassengerId\"])\n",
    "\n",
    "model = LogisticRegression()\n",
    "model.fit(X_train, y_train)\n",
    "y_pred = model.predict(X_test)"
   ]
  },
  {
   "cell_type": "code",
   "execution_count": 69,
   "id": "535aaeeb",
   "metadata": {},
   "outputs": [],
   "source": [
    "# y_pred"
   ]
  },
  {
   "cell_type": "code",
   "execution_count": 70,
   "id": "814daec6",
   "metadata": {},
   "outputs": [],
   "source": [
    "# Valeurs prédites par le modèle\n",
    "y_pred_series = pd.Series(name=\"Survived\", data=y_pred, index=prepared_test_df.PassengerId)\n",
    "# y_pred_series"
   ]
  },
  {
   "cell_type": "code",
   "execution_count": 71,
   "id": "22a330fe",
   "metadata": {},
   "outputs": [],
   "source": [
    "# Valeurs éliminées avant la prédiction\n",
    "eliminated_mask = ~test_df.PassengerId.isin(y_pred_series.index)\n",
    "eliminated_df = test_df[eliminated_mask]\n",
    "\n",
    "eliminated_pred_series = pd.Series(name=\"Survived\", data=[0]*eliminated_df.shape[0], index=eliminated_df.PassengerId)\n",
    "# eliminated_pred_series"
   ]
  },
  {
   "cell_type": "code",
   "execution_count": 72,
   "id": "aae48885",
   "metadata": {},
   "outputs": [],
   "source": [
    "survival_pred_series = pd.concat([y_pred_series, eliminated_pred_series]).sort_index()\n",
    "survival_pred_series.to_csv(\"./data/submission.csv\", index=True)"
   ]
  }
 ],
 "metadata": {
  "kernelspec": {
   "display_name": ".venv",
   "language": "python",
   "name": "python3"
  },
  "language_info": {
   "codemirror_mode": {
    "name": "ipython",
    "version": 3
   },
   "file_extension": ".py",
   "mimetype": "text/x-python",
   "name": "python",
   "nbconvert_exporter": "python",
   "pygments_lexer": "ipython3",
   "version": "3.13.3"
  }
 },
 "nbformat": 4,
 "nbformat_minor": 5
}
