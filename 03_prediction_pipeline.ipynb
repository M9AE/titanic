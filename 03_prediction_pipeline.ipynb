{
 "cells": [
  {
   "cell_type": "markdown",
   "id": "93ce6864",
   "metadata": {},
   "source": [
    "## Notebook d'application du modèle pour la génération de l'output"
   ]
  },
  {
   "cell_type": "code",
   "execution_count": 33,
   "id": "6b65dc83",
   "metadata": {},
   "outputs": [],
   "source": [
    "import pandas as pd\n",
    "from sklearn.linear_model import LogisticRegression\n",
    "import data_preparation\n",
    "import folder_management"
   ]
  },
  {
   "cell_type": "code",
   "execution_count": 34,
   "id": "b05cc573",
   "metadata": {},
   "outputs": [],
   "source": [
    "train_df = pd.read_csv(\"./data/train.csv\", sep=\",\")\n",
    "test_df = pd.read_csv(\"./data/test.csv\", sep=\",\")\n",
    "\n",
    "X_train = train_df.drop(columns=[\"Survived\", \"PassengerId\"])\n",
    "y_train = train_df.loc[:, \"Survived\"]\n",
    "X_test = test_df.drop(columns=[\"PassengerId\"])\n",
    "\n",
    "X_train, preparation_model = data_preparation.prepare_df(X_train)\n",
    "X_test = data_preparation.transform_df(X_test, preparation_model)"
   ]
  },
  {
   "cell_type": "code",
   "execution_count": 35,
   "id": "7c4e2536",
   "metadata": {},
   "outputs": [],
   "source": [
    "model = LogisticRegression(max_iter=1000)\n",
    "model.fit(X_train, y_train)\n",
    "y_pred = model.predict(X_test)"
   ]
  },
  {
   "cell_type": "code",
   "execution_count": 36,
   "id": "535aaeeb",
   "metadata": {},
   "outputs": [],
   "source": [
    "# y_pred"
   ]
  },
  {
   "cell_type": "code",
   "execution_count": 37,
   "id": "814daec6",
   "metadata": {},
   "outputs": [],
   "source": [
    "# Valeurs prédites par le modèle\n",
    "y_pred_series = pd.Series(name=\"Survived\", data=y_pred, index=test_df.PassengerId)\n",
    "# y_pred_series"
   ]
  },
  {
   "cell_type": "code",
   "execution_count": 38,
   "id": "22a330fe",
   "metadata": {},
   "outputs": [],
   "source": [
    "# Valeurs éliminées avant la prédiction\n",
    "eliminated_mask = ~test_df.PassengerId.isin(y_pred_series.index)\n",
    "eliminated_df = test_df[eliminated_mask]\n",
    "\n",
    "eliminated_pred_series = pd.Series(name=\"Survived\", data=[0]*eliminated_df.shape[0], index=eliminated_df.PassengerId)\n",
    "# eliminated_pred_series"
   ]
  },
  {
   "cell_type": "code",
   "execution_count": 39,
   "id": "aae48885",
   "metadata": {},
   "outputs": [
    {
     "name": "stderr",
     "output_type": "stream",
     "text": [
      "C:\\Users\\mathi\\AppData\\Local\\Temp\\ipykernel_7396\\2241461013.py:2: FutureWarning: The behavior of array concatenation with empty entries is deprecated. In a future version, this will no longer exclude empty items when determining the result dtype. To retain the old behavior, exclude the empty entries before the concat operation.\n",
      "  survival_pred_series = pd.concat([y_pred_series, eliminated_pred_series]).sort_index()\n"
     ]
    }
   ],
   "source": [
    "next_submission_filename = folder_management.get_name_iteration()\n",
    "survival_pred_series = pd.concat([y_pred_series, eliminated_pred_series]).sort_index()\n",
    "survival_pred_series.to_csv(next_submission_filename, index=True)"
   ]
  }
 ],
 "metadata": {
  "kernelspec": {
   "display_name": ".venv",
   "language": "python",
   "name": "python3"
  },
  "language_info": {
   "codemirror_mode": {
    "name": "ipython",
    "version": 3
   },
   "file_extension": ".py",
   "mimetype": "text/x-python",
   "name": "python",
   "nbconvert_exporter": "python",
   "pygments_lexer": "ipython3",
   "version": "3.13.3"
  }
 },
 "nbformat": 4,
 "nbformat_minor": 5
}
