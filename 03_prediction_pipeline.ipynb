{
 "cells": [
  {
   "cell_type": "markdown",
   "id": "93ce6864",
   "metadata": {},
   "source": [
    "## Notebook d'application du modèle pour la génération de l'output"
   ]
  },
  {
   "cell_type": "code",
   "execution_count": 10,
   "id": "6b65dc83",
   "metadata": {},
   "outputs": [],
   "source": [
    "import pandas as pd\n",
    "from sklearn.linear_model import LogisticRegression"
   ]
  },
  {
   "cell_type": "code",
   "execution_count": 11,
   "id": "b05cc573",
   "metadata": {},
   "outputs": [],
   "source": [
    "train_df = pd.read_csv(\"./data/train.csv\", sep=\",\")\n",
    "test_df = pd.read_csv(\"./data/test.csv\", sep=\",\")"
   ]
  },
  {
   "cell_type": "code",
   "execution_count": 14,
   "id": "f0254068",
   "metadata": {},
   "outputs": [],
   "source": [
    "def prepare_df(df):\n",
    "    prepared_df = (\n",
    "        df\n",
    "        .copy(deep=True)\n",
    "        .drop(columns=[\"Name\", \"Sex\", \"Ticket\", \"Cabin\", \"Embarked\"])\n",
    "        .dropna()\n",
    "    )\n",
    "    return prepared_df"
   ]
  },
  {
   "cell_type": "code",
   "execution_count": 35,
   "id": "7c4e2536",
   "metadata": {},
   "outputs": [],
   "source": [
    "prepared_train_df = train_df.pipe(prepare_df)\n",
    "prepared_test_df = test_df.pipe(prepare_df)\n",
    "\n",
    "X_train = prepared_train_df.drop(columns=[\"Survived\"])\n",
    "y_train = prepared_train_df.loc[:, \"Survived\"]\n",
    "X_test = prepared_test_df.copy(deep=True)\n",
    "\n",
    "model = LogisticRegression()\n",
    "model.fit(X_train, y_train)\n",
    "y_pred = model.predict(X_test)"
   ]
  },
  {
   "cell_type": "code",
   "execution_count": 16,
   "id": "535aaeeb",
   "metadata": {},
   "outputs": [
    {
     "data": {
      "text/plain": [
       "array([0, 0, 0, 0, 0, 0, 0, 1, 0, 0, 1, 1, 0, 1, 0, 0, 0, 0, 0, 0, 0, 1,\n",
       "       1, 0, 1, 0, 1, 0, 0, 0, 1, 0, 0, 0, 0, 0, 0, 1, 0, 1, 0, 0, 1, 1,\n",
       "       1, 1, 0, 0, 0, 1, 0, 0, 0, 0, 1, 0, 1, 1, 1, 0, 0, 0, 1, 1, 1, 0,\n",
       "       0, 0, 0, 0, 1, 0, 0, 1, 0, 1, 1, 0, 0, 0, 0, 0, 1, 0, 0, 0, 0, 0,\n",
       "       1, 0, 1, 0, 1, 0, 0, 1, 0, 1, 1, 0, 0, 0, 0, 0, 0, 1, 0, 0, 0, 1,\n",
       "       0, 0, 0, 1, 1, 1, 1, 0, 0, 0, 1, 0, 0, 0, 1, 0, 1, 0, 0, 1, 0, 0,\n",
       "       1, 0, 0, 0, 0, 0, 1, 1, 0, 1, 1, 0, 1, 1, 1, 0, 1, 0, 0, 0, 0, 0,\n",
       "       1, 0, 1, 0, 1, 1, 1, 1, 1, 0, 1, 1, 0, 0, 1, 0, 0, 1, 1, 1, 0, 0,\n",
       "       1, 0, 1, 0, 0, 0, 1, 1, 0, 1, 0, 0, 0, 1, 1, 0, 0, 1, 1, 1, 0, 0,\n",
       "       1, 0, 1, 0, 0, 0, 1, 0, 0, 0, 1, 1, 0, 0, 1, 1, 1, 0, 0, 0, 1, 0,\n",
       "       1, 0, 0, 0, 1, 0, 1, 0, 0, 1, 1, 0, 0, 0, 0, 0, 1, 1, 1, 0, 0, 0,\n",
       "       0, 1, 0, 1, 1, 0, 0, 0, 0, 1, 1, 1, 0, 1, 1, 0, 1, 0, 1, 0, 0, 1,\n",
       "       0, 0, 1, 1, 0, 1, 0, 1, 0, 1, 0, 1, 1, 1, 0, 1, 1, 0, 0, 0, 1, 0,\n",
       "       0, 1, 0, 1, 0, 1, 1, 1, 0, 1, 1, 0, 1, 1, 0, 0, 0, 1, 0, 0, 0, 0,\n",
       "       1, 1, 1, 0, 0, 1, 0, 1, 0, 0, 1, 0, 1, 1, 1, 1, 0, 1, 0, 1, 0, 1,\n",
       "       0])"
      ]
     },
     "execution_count": 16,
     "metadata": {},
     "output_type": "execute_result"
    }
   ],
   "source": [
    "y_pred"
   ]
  },
  {
   "cell_type": "code",
   "execution_count": 41,
   "id": "814daec6",
   "metadata": {},
   "outputs": [
    {
     "data": {
      "text/plain": [
       "PassengerId\n",
       "892     0\n",
       "893     0\n",
       "894     0\n",
       "895     0\n",
       "896     0\n",
       "       ..\n",
       "1301    0\n",
       "1303    1\n",
       "1304    0\n",
       "1306    1\n",
       "1307    0\n",
       "Name: Survived, Length: 331, dtype: int64"
      ]
     },
     "execution_count": 41,
     "metadata": {},
     "output_type": "execute_result"
    }
   ],
   "source": [
    "# Valeurs prédites par le modèle\n",
    "y_pred_series = pd.Series(name=\"Survived\", data=y_pred, index=X_test.PassengerId)\n",
    "y_pred_series"
   ]
  },
  {
   "cell_type": "code",
   "execution_count": 49,
   "id": "22a330fe",
   "metadata": {},
   "outputs": [
    {
     "data": {
      "text/plain": [
       "PassengerId\n",
       "902     0\n",
       "914     0\n",
       "921     0\n",
       "925     0\n",
       "928     0\n",
       "       ..\n",
       "1300    0\n",
       "1302    0\n",
       "1305    0\n",
       "1308    0\n",
       "1309    0\n",
       "Name: Survived, Length: 87, dtype: int64"
      ]
     },
     "execution_count": 49,
     "metadata": {},
     "output_type": "execute_result"
    }
   ],
   "source": [
    "# Valeurs éliminées avant la prédiction\n",
    "eliminated_mask = ~test_df.PassengerId.isin(y_pred_series.index)\n",
    "eliminated_df = test_df[eliminated_mask]\n",
    "\n",
    "eliminated_pred_series = pd.Series(name=\"Survived\", data=[0]*eliminated_df.shape[0], index=eliminated_df.PassengerId)\n",
    "eliminated_pred_series"
   ]
  },
  {
   "cell_type": "code",
   "execution_count": 53,
   "id": "aae48885",
   "metadata": {},
   "outputs": [],
   "source": [
    "survival_pred_series = pd.concat([y_pred_series, eliminated_pred_series]).sort_index()\n",
    "survival_pred_series.to_csv(\"./data/submission.csv\", index=True)"
   ]
  }
 ],
 "metadata": {
  "kernelspec": {
   "display_name": ".venv",
   "language": "python",
   "name": "python3"
  },
  "language_info": {
   "codemirror_mode": {
    "name": "ipython",
    "version": 3
   },
   "file_extension": ".py",
   "mimetype": "text/x-python",
   "name": "python",
   "nbconvert_exporter": "python",
   "pygments_lexer": "ipython3",
   "version": "3.13.3"
  }
 },
 "nbformat": 4,
 "nbformat_minor": 5
}
