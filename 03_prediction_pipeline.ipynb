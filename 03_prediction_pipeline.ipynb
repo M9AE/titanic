{
 "cells": [
  {
   "cell_type": "markdown",
   "id": "93ce6864",
   "metadata": {},
   "source": [
    "## Notebook d'application du modèle pour la génération de l'output"
   ]
  },
  {
   "cell_type": "code",
   "execution_count": 1,
   "id": "6b65dc83",
   "metadata": {},
   "outputs": [],
   "source": [
    "import pandas as pd\n",
    "from sklearn.linear_model import LogisticRegression\n",
    "import xgboost as xgb\n",
    "import data_preparation\n",
    "import folder_management"
   ]
  },
  {
   "cell_type": "code",
   "execution_count": 2,
   "id": "b05cc573",
   "metadata": {},
   "outputs": [],
   "source": [
    "train_df = pd.read_csv(\"./data/train.csv\", sep=\",\")\n",
    "test_df = pd.read_csv(\"./data/test.csv\", sep=\",\")\n",
    "\n",
    "X_train = train_df.drop(columns=[\"Survived\", \"PassengerId\"])\n",
    "y_train = train_df.loc[:, \"Survived\"]\n",
    "X_test = test_df.drop(columns=[\"PassengerId\"])\n",
    "\n",
    "X_train, preparation_model = data_preparation.prepare_df(X_train)\n",
    "X_test = data_preparation.transform_df(X_test, preparation_model)"
   ]
  },
  {
   "cell_type": "code",
   "execution_count": 3,
   "id": "7c4e2536",
   "metadata": {},
   "outputs": [
    {
     "name": "stderr",
     "output_type": "stream",
     "text": [
      "c:\\Users\\mathi\\dev\\titanic\\.venv\\Lib\\site-packages\\xgboost\\training.py:199: UserWarning: [16:45:03] WARNING: C:\\actions-runner\\_work\\xgboost\\xgboost\\src\\learner.cc:790: \n",
      "Parameters: { \"use_label_encoder\" } are not used.\n",
      "\n",
      "  bst.update(dtrain, iteration=i, fobj=obj)\n"
     ]
    }
   ],
   "source": [
    "# model = LogisticRegression(max_iter=1000)\n",
    "model = xgb.XGBClassifier(\n",
    "    use_label_encoder=False,\n",
    "    eval_metric='logloss',\n",
    "    colsample_bytree=0.8,\n",
    "    learning_rate=0.015,\n",
    "    max_depth=3,\n",
    "    n_estimators=160,\n",
    "    subsample=0.857,\n",
    ")\n",
    "model.fit(X_train, y_train)\n",
    "y_pred = model.predict(X_test)"
   ]
  },
  {
   "cell_type": "code",
   "execution_count": 4,
   "id": "535aaeeb",
   "metadata": {},
   "outputs": [],
   "source": [
    "# y_pred"
   ]
  },
  {
   "cell_type": "code",
   "execution_count": 5,
   "id": "814daec6",
   "metadata": {},
   "outputs": [],
   "source": [
    "y_pred_series = pd.Series(name=\"Survived\", data=y_pred, index=test_df.PassengerId)"
   ]
  },
  {
   "cell_type": "code",
   "execution_count": 6,
   "id": "22a330fe",
   "metadata": {},
   "outputs": [],
   "source": [
    "# # Valeurs éliminées avant la prédiction\n",
    "# eliminated_mask = ~test_df.PassengerId.isin(y_pred_series.index)\n",
    "# eliminated_df = test_df[eliminated_mask]\n",
    "\n",
    "# eliminated_pred_series = pd.Series(name=\"Survived\", data=[0]*eliminated_df.shape[0], index=eliminated_df.PassengerId)\n",
    "# # eliminated_pred_series"
   ]
  },
  {
   "cell_type": "code",
   "execution_count": 8,
   "id": "aae48885",
   "metadata": {},
   "outputs": [],
   "source": [
    "# next_submission_filename = folder_management.get_name_iteration()\n",
    "# survival_pred_series = pd.concat([y_pred_series, eliminated_pred_series]).sort_index()\n",
    "# survival_pred_series.to_csv(next_submission_filename, index=True)"
   ]
  },
  {
   "cell_type": "code",
   "execution_count": 9,
   "id": "6242850d",
   "metadata": {},
   "outputs": [],
   "source": [
    "next_submission_filename = folder_management.get_name_iteration()\n",
    "y_pred_series.to_csv(next_submission_filename, index=True)"
   ]
  }
 ],
 "metadata": {
  "kernelspec": {
   "display_name": ".venv",
   "language": "python",
   "name": "python3"
  },
  "language_info": {
   "codemirror_mode": {
    "name": "ipython",
    "version": 3
   },
   "file_extension": ".py",
   "mimetype": "text/x-python",
   "name": "python",
   "nbconvert_exporter": "python",
   "pygments_lexer": "ipython3",
   "version": "3.13.3"
  }
 },
 "nbformat": 4,
 "nbformat_minor": 5
}
