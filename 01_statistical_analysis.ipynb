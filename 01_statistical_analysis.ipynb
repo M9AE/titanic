{
 "cells": [
  {
   "cell_type": "markdown",
   "id": "2f4620ea",
   "metadata": {},
   "source": [
    "# Notebook d'analyse statistique et détection d'insights"
   ]
  },
  {
   "cell_type": "code",
   "execution_count": 1,
   "id": "36652ed4",
   "metadata": {},
   "outputs": [],
   "source": [
    "import pandas as pd\n",
    "\n",
    "# pd.set_option(\"display.max_columns\", 50)"
   ]
  },
  {
   "cell_type": "markdown",
   "id": "b372eb41",
   "metadata": {},
   "source": [
    "## a. Données"
   ]
  },
  {
   "cell_type": "code",
   "execution_count": 4,
   "id": "5fea0bdf",
   "metadata": {},
   "outputs": [
    {
     "data": {
      "text/html": [
       "<div>\n",
       "<style scoped>\n",
       "    .dataframe tbody tr th:only-of-type {\n",
       "        vertical-align: middle;\n",
       "    }\n",
       "\n",
       "    .dataframe tbody tr th {\n",
       "        vertical-align: top;\n",
       "    }\n",
       "\n",
       "    .dataframe thead th {\n",
       "        text-align: right;\n",
       "    }\n",
       "</style>\n",
       "<table border=\"1\" class=\"dataframe\">\n",
       "  <thead>\n",
       "    <tr style=\"text-align: right;\">\n",
       "      <th></th>\n",
       "      <th>PassengerId</th>\n",
       "      <th>Survived</th>\n",
       "      <th>Pclass</th>\n",
       "      <th>Name</th>\n",
       "      <th>Sex</th>\n",
       "      <th>Age</th>\n",
       "      <th>SibSp</th>\n",
       "      <th>Parch</th>\n",
       "      <th>Ticket</th>\n",
       "      <th>Fare</th>\n",
       "      <th>Cabin</th>\n",
       "      <th>Embarked</th>\n",
       "    </tr>\n",
       "  </thead>\n",
       "  <tbody>\n",
       "    <tr>\n",
       "      <th>0</th>\n",
       "      <td>1</td>\n",
       "      <td>0</td>\n",
       "      <td>3</td>\n",
       "      <td>Braund, Mr. Owen Harris</td>\n",
       "      <td>male</td>\n",
       "      <td>22.0</td>\n",
       "      <td>1</td>\n",
       "      <td>0</td>\n",
       "      <td>A/5 21171</td>\n",
       "      <td>7.2500</td>\n",
       "      <td>NaN</td>\n",
       "      <td>S</td>\n",
       "    </tr>\n",
       "    <tr>\n",
       "      <th>1</th>\n",
       "      <td>2</td>\n",
       "      <td>1</td>\n",
       "      <td>1</td>\n",
       "      <td>Cumings, Mrs. John Bradley (Florence Briggs Th...</td>\n",
       "      <td>female</td>\n",
       "      <td>38.0</td>\n",
       "      <td>1</td>\n",
       "      <td>0</td>\n",
       "      <td>PC 17599</td>\n",
       "      <td>71.2833</td>\n",
       "      <td>C85</td>\n",
       "      <td>C</td>\n",
       "    </tr>\n",
       "    <tr>\n",
       "      <th>2</th>\n",
       "      <td>3</td>\n",
       "      <td>1</td>\n",
       "      <td>3</td>\n",
       "      <td>Heikkinen, Miss. Laina</td>\n",
       "      <td>female</td>\n",
       "      <td>26.0</td>\n",
       "      <td>0</td>\n",
       "      <td>0</td>\n",
       "      <td>STON/O2. 3101282</td>\n",
       "      <td>7.9250</td>\n",
       "      <td>NaN</td>\n",
       "      <td>S</td>\n",
       "    </tr>\n",
       "  </tbody>\n",
       "</table>\n",
       "</div>"
      ],
      "text/plain": [
       "   PassengerId  Survived  Pclass  \\\n",
       "0            1         0       3   \n",
       "1            2         1       1   \n",
       "2            3         1       3   \n",
       "\n",
       "                                                Name     Sex   Age  SibSp  \\\n",
       "0                            Braund, Mr. Owen Harris    male  22.0      1   \n",
       "1  Cumings, Mrs. John Bradley (Florence Briggs Th...  female  38.0      1   \n",
       "2                             Heikkinen, Miss. Laina  female  26.0      0   \n",
       "\n",
       "   Parch            Ticket     Fare Cabin Embarked  \n",
       "0      0         A/5 21171   7.2500   NaN        S  \n",
       "1      0          PC 17599  71.2833   C85        C  \n",
       "2      0  STON/O2. 3101282   7.9250   NaN        S  "
      ]
     },
     "execution_count": 4,
     "metadata": {},
     "output_type": "execute_result"
    }
   ],
   "source": [
    "df = pd.read_csv(\"./data/train.csv\", sep=\",\")\n",
    "df.head(3)"
   ]
  },
  {
   "cell_type": "code",
   "execution_count": 8,
   "id": "a13637de",
   "metadata": {},
   "outputs": [
    {
     "data": {
      "text/plain": [
       "(891, 12)"
      ]
     },
     "execution_count": 8,
     "metadata": {},
     "output_type": "execute_result"
    }
   ],
   "source": [
    "df.shape"
   ]
  },
  {
   "cell_type": "markdown",
   "id": "efc47a56",
   "metadata": {},
   "source": [
    "## b. Analyse générale du jeu de données"
   ]
  },
  {
   "cell_type": "code",
   "execution_count": 6,
   "id": "3f5fbfe1",
   "metadata": {},
   "outputs": [
    {
     "data": {
      "text/plain": [
       "PassengerId      int64\n",
       "Survived         int64\n",
       "Pclass           int64\n",
       "Name            object\n",
       "Sex             object\n",
       "Age            float64\n",
       "SibSp            int64\n",
       "Parch            int64\n",
       "Ticket          object\n",
       "Fare           float64\n",
       "Cabin           object\n",
       "Embarked        object\n",
       "dtype: object"
      ]
     },
     "execution_count": 6,
     "metadata": {},
     "output_type": "execute_result"
    }
   ],
   "source": [
    "df.dtypes"
   ]
  },
  {
   "cell_type": "markdown",
   "id": "89e4edda",
   "metadata": {},
   "source": [
    "2 types présents : \n",
    "* numérique (PassengerId, Survived, Pclass, ...)\n",
    "* textuel (Name, Sex, ...)"
   ]
  },
  {
   "cell_type": "code",
   "execution_count": 7,
   "id": "9e19b95e",
   "metadata": {},
   "outputs": [
    {
     "data": {
      "text/plain": [
       "PassengerId    0.000000\n",
       "Survived       0.000000\n",
       "Pclass         0.000000\n",
       "Name           0.000000\n",
       "Sex            0.000000\n",
       "Age            0.198653\n",
       "SibSp          0.000000\n",
       "Parch          0.000000\n",
       "Ticket         0.000000\n",
       "Fare           0.000000\n",
       "Cabin          0.771044\n",
       "Embarked       0.002245\n",
       "dtype: float64"
      ]
     },
     "execution_count": 7,
     "metadata": {},
     "output_type": "execute_result"
    }
   ],
   "source": [
    "df.isna().sum() / df.shape[0]"
   ]
  },
  {
   "cell_type": "markdown",
   "id": "22766e62",
   "metadata": {},
   "source": [
    "2 colonnes sont gravement impactées par des valeurs manquantes : Age (20%) et Cabin (77%) \n",
    "\n",
    "Notons qu'en dehors de ces deux, seule Embarked contient aussi des valeurs manquantes."
   ]
  },
  {
   "cell_type": "markdown",
   "id": "1a823115",
   "metadata": {},
   "source": [
    "## c. Analyse statistique des variables textuelles\n"
   ]
  },
  {
   "cell_type": "code",
   "execution_count": 10,
   "id": "154aa54d",
   "metadata": {},
   "outputs": [
    {
     "data": {
      "text/plain": [
       "['Name', 'Sex', 'Ticket', 'Cabin', 'Embarked']"
      ]
     },
     "execution_count": 10,
     "metadata": {},
     "output_type": "execute_result"
    }
   ],
   "source": [
    "[col for col in df.columns if df[col].dtype == \"object\"]"
   ]
  },
  {
   "cell_type": "code",
   "execution_count": 12,
   "id": "eeb95bac",
   "metadata": {},
   "outputs": [],
   "source": [
    "textual_cols = [\"Name\", \"Sex\", \"Ticket\", \"Cabin\", \"Embarked\"]"
   ]
  },
  {
   "cell_type": "code",
   "execution_count": 21,
   "id": "e7a74a93",
   "metadata": {},
   "outputs": [
    {
     "name": "stdout",
     "output_type": "stream",
     "text": [
      "                                          count      prop\n",
      "Name                                                     \n",
      "Braund, Mr. Owen Harris                       1  0.001122\n",
      "Boulos, Mr. Hanna                             1  0.001122\n",
      "Frolicher-Stehli, Mr. Maxmillian              1  0.001122\n",
      "Gilinski, Mr. Eliezer                         1  0.001122\n",
      "Murdlin, Mr. Joseph                           1  0.001122\n",
      "...                                         ...       ...\n",
      "Kelly, Miss. Anna Katherine \"Annie Kate\"      1  0.001122\n",
      "McCoy, Mr. Bernard                            1  0.001122\n",
      "Johnson, Mr. William Cahoone Jr               1  0.001122\n",
      "Keane, Miss. Nora A                           1  0.001122\n",
      "Dooley, Mr. Patrick                           1  0.001122\n",
      "\n",
      "[891 rows x 2 columns]\n",
      "\n",
      "\n",
      "========================================\n",
      "\n",
      "        count      prop\n",
      "Sex                    \n",
      "male      577  0.647587\n",
      "female    314  0.352413\n",
      "\n",
      "\n",
      "========================================\n",
      "\n",
      "          count      prop\n",
      "Ticket                   \n",
      "347082        7  0.007856\n",
      "CA. 2343      7  0.007856\n",
      "1601          7  0.007856\n",
      "3101295       6  0.006734\n",
      "CA 2144       6  0.006734\n",
      "...         ...       ...\n",
      "9234          1  0.001122\n",
      "19988         1  0.001122\n",
      "2693          1  0.001122\n",
      "PC 17612      1  0.001122\n",
      "370376        1  0.001122\n",
      "\n",
      "[681 rows x 2 columns]\n",
      "\n",
      "\n",
      "========================================\n",
      "\n",
      "             count      prop\n",
      "Cabin                       \n",
      "isna           687  0.771044\n",
      "C23 C25 C27      4  0.004489\n",
      "G6               4  0.004489\n",
      "B96 B98          4  0.004489\n",
      "C22 C26          3  0.003367\n",
      "...            ...       ...\n",
      "E34              1  0.001122\n",
      "C7               1  0.001122\n",
      "C54              1  0.001122\n",
      "E36              1  0.001122\n",
      "C148             1  0.001122\n",
      "\n",
      "[148 rows x 2 columns]\n",
      "\n",
      "\n",
      "========================================\n",
      "\n",
      "          count      prop\n",
      "Embarked                 \n",
      "S           644  0.722783\n",
      "C           168  0.188552\n",
      "Q            77  0.086420\n",
      "isna          2  0.002245\n",
      "\n",
      "\n",
      "========================================\n",
      "\n"
     ]
    }
   ],
   "source": [
    "for col in textual_cols:\n",
    "    data = (\n",
    "        pd.concat(\n",
    "            [\n",
    "                df[col].fillna(\"isna\").value_counts(),\n",
    "                (df[col].fillna(\"isna\").value_counts()/df.shape[0]).rename(\"prop\")\n",
    "            ], \n",
    "            axis=1,\n",
    "        )\n",
    "    )\n",
    "    print(data)\n",
    "    print(\"\\n\"*2 + \"=\"*40 + \"\\n\")"
   ]
  }
 ],
 "metadata": {
  "kernelspec": {
   "display_name": ".venv",
   "language": "python",
   "name": "python3"
  },
  "language_info": {
   "codemirror_mode": {
    "name": "ipython",
    "version": 3
   },
   "file_extension": ".py",
   "mimetype": "text/x-python",
   "name": "python",
   "nbconvert_exporter": "python",
   "pygments_lexer": "ipython3",
   "version": "3.13.3"
  }
 },
 "nbformat": 4,
 "nbformat_minor": 5
}
