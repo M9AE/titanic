{
 "cells": [
  {
   "cell_type": "markdown",
   "id": "c8f5b189",
   "metadata": {},
   "source": [
    "# Notebook de préparation des données"
   ]
  },
  {
   "cell_type": "markdown",
   "id": "09dc174c",
   "metadata": {},
   "source": [
    "Pour rappel : \n",
    "* Drop : Ticket, Name (TODO:Reprendre & améliorer)\n",
    "* One-hot encoder : Sex, Embarked, board of Cabin, Title\n",
    "  * ne pas oublier de drop 1 pour éviter la colinéarité\n",
    "* Flag encoder : deck of Cabin\n",
    "* transformation log(x+1) : SibSp, Parch, Fare\n",
    "* Knn-imputer : Age\n",
    "* Keep same : Pclass, Survived"
   ]
  },
  {
   "cell_type": "code",
   "execution_count": 1,
   "id": "f3a3de11",
   "metadata": {},
   "outputs": [],
   "source": [
    "import numpy as np\n",
    "import pandas as pd\n",
    "from sklearn.impute import KNNImputer\n",
    "from sklearn.preprocessing import OneHotEncoder, MinMaxScaler\n",
    "from data_preparation import apply_one_hot_encoding"
   ]
  },
  {
   "cell_type": "code",
   "execution_count": 2,
   "id": "c5916f2f",
   "metadata": {},
   "outputs": [],
   "source": [
    "df = pd.read_csv(\"./data/train.csv\", sep=\",\")"
   ]
  },
  {
   "cell_type": "code",
   "execution_count": 3,
   "id": "4e5b9694",
   "metadata": {},
   "outputs": [],
   "source": [
    "# 1. Drops\n",
    "simplified_df = df.drop(columns=[\"Ticket\"])"
   ]
  },
  {
   "cell_type": "code",
   "execution_count": 4,
   "id": "c13a9b7d",
   "metadata": {},
   "outputs": [],
   "source": [
    "# One-hot encoding\n",
    "sex_scaler = OneHotEncoder(handle_unknown='ignore')\n",
    "embarked_scaler = OneHotEncoder(handle_unknown='ignore')\n",
    "\n",
    "sex_scaler.fit(simplified_df[[\"Sex\"]])\n",
    "embarked_scaler.fit(simplified_df[[\"Embarked\"]])\n",
    "\n",
    "sex_columns = [\"Sex_\" + col for col in sex_scaler.categories_[0]]\n",
    "embarked_columns = [\"Embarked_\" + col for col in embarked_scaler.categories_[0]]\n",
    "\n",
    "simplified_df[sex_columns[:-1]] = sex_scaler.transform(simplified_df[[\"Sex\"]]).toarray()[:, :-1]\n",
    "simplified_df[embarked_columns[:-1]] = embarked_scaler.transform(simplified_df[[\"Embarked\"]]).toarray()[:, :-1]\n",
    "\n",
    "simplified_df.drop(columns=[\"Sex\", \"Embarked\"], inplace=True)"
   ]
  },
  {
   "cell_type": "code",
   "execution_count": 5,
   "id": "96dd5db2",
   "metadata": {},
   "outputs": [],
   "source": [
    "# Transformation log : SibSp, Parch, Fare\n",
    "simplified_df[\"SibSp\"] = simplified_df[\"SibSp\"].apply(lambda x: np.log(x+1))\n",
    "simplified_df[\"Parch\"] = simplified_df[\"Parch\"].apply(lambda x: np.log(x+1))\n",
    "simplified_df[\"Fare\"] = simplified_df[\"Fare\"].apply(lambda x: np.log(x+1))"
   ]
  },
  {
   "cell_type": "code",
   "execution_count": 6,
   "id": "1c24fee2",
   "metadata": {},
   "outputs": [],
   "source": [
    "# kNN imputer : Age\n",
    "min_max_scaler = MinMaxScaler()\n",
    "df_min_max_scaled = min_max_scaler.fit_transform(simplified_df.drop(columns=[\"Cabin\", \"Name\"]))\n",
    "\n",
    "knn_imputer = KNNImputer(n_neighbors=3, weights='uniform', metric='nan_euclidean')\n",
    "data_imputed = knn_imputer.fit_transform(df_min_max_scaled)\n",
    "\n",
    "descaled_data_imputed = min_max_scaler.inverse_transform(data_imputed)\n",
    "\n",
    "simplified_df[\"Age\"] = descaled_data_imputed[:, list(min_max_scaler.feature_names_in_).index(\"Age\")]"
   ]
  },
  {
   "cell_type": "code",
   "execution_count": 7,
   "id": "6f680388",
   "metadata": {},
   "outputs": [],
   "source": [
    "# Cabin transformation\n",
    "decks_encoding = \"TABCDEFGHI\"\n",
    "\n",
    "def transform_cabin_deck(x):\n",
    "    if pd.isna(x): return np.nan\n",
    "    return np.mean([decks_encoding.index(c[0]) for c in x.split(\" \")])\n",
    "\n",
    "def extract_cabin_bord(x):\n",
    "    if pd.isna(x): return np.nan\n",
    "    return np.median([int(c[1:])%2==0 if len(c[1:]) > 0 else np.nan for c in x.split(\" \")])\n",
    "\n",
    "simplified_df[\"nb_cabins\"] = simplified_df[\"Cabin\"].str.count(\" \") + 1\n",
    "simplified_df[\"board\"] = simplified_df[\"Cabin\"].apply(extract_cabin_bord)\n",
    "simplified_df[\"deck\"] = simplified_df[\"Cabin\"].apply(transform_cabin_deck)\n",
    "simplified_df.drop(columns=[\"Cabin\"], inplace=True)"
   ]
  },
  {
   "cell_type": "code",
   "execution_count": 24,
   "id": "895caa63",
   "metadata": {},
   "outputs": [],
   "source": [
    "# Name transformation\n",
    "names_df = pd.read_csv(\"./data/names.csv\")\n",
    "\n",
    "def split_last(L, s):\n",
    "    if isinstance(s, str):\n",
    "        return L[:-1] + L[-1].split(s)\n",
    "    elif isinstance(s, list):\n",
    "        for s_ in s:\n",
    "            if s_ in L[-1]:\n",
    "                return L[:-1] + L[-1].split(s_)\n",
    "    return L\n",
    "\n",
    "def split_name(x):\n",
    "    x = x.split(\",\")\n",
    "    x = split_last(x, \".\")\n",
    "    x = split_last(x, [\"(\", \"\\\"\"])\n",
    "    return x\n",
    "\n",
    "# Agregated names info\n",
    "name_df = simplified_df[\"Name\"].apply(lambda x: split_name(x)).apply(pd.Series)\n",
    "\n",
    "# Family names to region\n",
    "simplified_df[\"Zones\"] = (\n",
    "    pd.Series(name_df[0], name=\"last_name\")\n",
    "    .to_frame()\n",
    "    .merge(names_df, how=\"left\", left_on=\"last_name\", right_on=\"Name\")\n",
    "    .loc[:,\"Zone\"]\n",
    ")\n",
    "\n",
    "# Title\n",
    "simplified_df[\"Title\"] = name_df[1]"
   ]
  },
  {
   "cell_type": "code",
   "execution_count": null,
   "id": "c5ea0a95",
   "metadata": {},
   "outputs": [],
   "source": [
    "simplified_df, _ = apply_one_hot_encoding(simplified_df, \"Zones\")\n",
    "simplified_df, _ = apply_one_hot_encoding(simplified_df, \"Title\")"
   ]
  },
  {
   "cell_type": "code",
   "execution_count": 29,
   "id": "703d288d",
   "metadata": {},
   "outputs": [],
   "source": [
    "simplified_df.drop(columns=[\"Name\"], inplace=True)"
   ]
  },
  {
   "cell_type": "code",
   "execution_count": 34,
   "id": "86642923",
   "metadata": {},
   "outputs": [],
   "source": [
    "simplified_df.to_csv(\"./data/train_prepared.csv\")"
   ]
  },
  {
   "cell_type": "markdown",
   "id": "42198f2e",
   "metadata": {},
   "source": [
    "## Test functions"
   ]
  },
  {
   "cell_type": "code",
   "execution_count": 1,
   "id": "4f80e747",
   "metadata": {},
   "outputs": [],
   "source": [
    "import pandas as pd\n",
    "import data_preparation"
   ]
  },
  {
   "cell_type": "code",
   "execution_count": 2,
   "id": "67549b43",
   "metadata": {},
   "outputs": [],
   "source": [
    "train_df = pd.read_csv(\"./data/train.csv\", sep=\",\")\n",
    "test_df = pd.read_csv(\"./data/test.csv\", sep=\",\")\n",
    "\n",
    "X_train = train_df.drop(columns=[\"Survived\"])\n",
    "y_train = train_df.loc[:, \"Survived\"]\n",
    "\n",
    "X_train, preparation_model = data_preparation.prepare_df(X_train)\n",
    "X_test = data_preparation.transform_df(test_df, preparation_model)"
   ]
  }
 ],
 "metadata": {
  "kernelspec": {
   "display_name": ".venv",
   "language": "python",
   "name": "python3"
  },
  "language_info": {
   "codemirror_mode": {
    "name": "ipython",
    "version": 3
   },
   "file_extension": ".py",
   "mimetype": "text/x-python",
   "name": "python",
   "nbconvert_exporter": "python",
   "pygments_lexer": "ipython3",
   "version": "3.13.3"
  }
 },
 "nbformat": 4,
 "nbformat_minor": 5
}
