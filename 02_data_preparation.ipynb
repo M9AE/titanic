{
 "cells": [
  {
   "cell_type": "markdown",
   "id": "c8f5b189",
   "metadata": {},
   "source": [
    "# Notebook de préparation des données"
   ]
  },
  {
   "cell_type": "markdown",
   "id": "09dc174c",
   "metadata": {},
   "source": [
    "Pour rappel : \n",
    "* Drop : Ticket, Cabin, Name (TODO:Reprendre & améliorer)\n",
    "* One-hot encoder : Sex, Embarked\n",
    "  * ne pas oublier de drop 1 pour éviter la colinéarité\n",
    "* transformation log(x+1) : SibSp, Parch, Fare\n",
    "* Knn-imputer : Age\n",
    "* Keep same : Pclass, Survived"
   ]
  },
  {
   "cell_type": "code",
   "execution_count": 74,
   "id": "f3a3de11",
   "metadata": {},
   "outputs": [],
   "source": [
    "import numpy as np\n",
    "import pandas as pd\n",
    "from sklearn.impute import KNNImputer\n",
    "from sklearn.preprocessing import OneHotEncoder, MinMaxScaler"
   ]
  },
  {
   "cell_type": "code",
   "execution_count": 75,
   "id": "c5916f2f",
   "metadata": {},
   "outputs": [],
   "source": [
    "df = pd.read_csv(\"./data/train.csv\", sep=\",\")"
   ]
  },
  {
   "cell_type": "code",
   "execution_count": 76,
   "id": "4e5b9694",
   "metadata": {},
   "outputs": [],
   "source": [
    "# 1. Drops\n",
    "simplified_df = df.drop(columns=[\"Ticket\", \"Cabin\", \"Name\"])"
   ]
  },
  {
   "cell_type": "code",
   "execution_count": 77,
   "id": "c13a9b7d",
   "metadata": {},
   "outputs": [],
   "source": [
    "# One-hot encoding\n",
    "sex_scaler = OneHotEncoder(handle_unknown='ignore')\n",
    "embarked_scaler = OneHotEncoder(handle_unknown='ignore')\n",
    "\n",
    "sex_scaler.fit(simplified_df[[\"Sex\"]])\n",
    "embarked_scaler.fit(simplified_df[[\"Embarked\"]])\n",
    "\n",
    "sex_columns = [\"Sex_\" + col for col in sex_scaler.categories_[0]]\n",
    "embarked_columns = [\"Embarked_\" + col for col in embarked_scaler.categories_[0]]\n",
    "\n",
    "simplified_df[sex_columns[:-1]] = sex_scaler.transform(simplified_df[[\"Sex\"]]).toarray()[:, :-1]\n",
    "simplified_df[embarked_columns[:-1]] = embarked_scaler.transform(simplified_df[[\"Embarked\"]]).toarray()[:, :-1]\n",
    "\n",
    "simplified_df.drop(columns=[\"Sex\", \"Embarked\"], inplace=True)"
   ]
  },
  {
   "cell_type": "code",
   "execution_count": 78,
   "id": "96dd5db2",
   "metadata": {},
   "outputs": [],
   "source": [
    "# Transformation log : SibSp, Parch, Fare\n",
    "simplified_df[\"SibSp\"] = simplified_df[\"SibSp\"].apply(lambda x: np.log(x+1))\n",
    "simplified_df[\"Parch\"] = simplified_df[\"Parch\"].apply(lambda x: np.log(x+1))\n",
    "simplified_df[\"Fare\"] = simplified_df[\"Fare\"].apply(lambda x: np.log(x+1))"
   ]
  },
  {
   "cell_type": "code",
   "execution_count": 80,
   "id": "a3e45567",
   "metadata": {},
   "outputs": [
    {
     "data": {
      "text/plain": [
       "PassengerId      0\n",
       "Survived         0\n",
       "Pclass           0\n",
       "Age            177\n",
       "SibSp            0\n",
       "Parch            0\n",
       "Fare             0\n",
       "Sex_female       0\n",
       "Embarked_C       0\n",
       "Embarked_Q       0\n",
       "dtype: int64"
      ]
     },
     "execution_count": 80,
     "metadata": {},
     "output_type": "execute_result"
    }
   ],
   "source": [
    "simplified_df.isna().sum()"
   ]
  },
  {
   "cell_type": "code",
   "execution_count": 89,
   "id": "1c24fee2",
   "metadata": {},
   "outputs": [],
   "source": [
    "# kNN imputer\n",
    "min_max_scaler = MinMaxScaler()\n",
    "df_min_max_scaled = min_max_scaler.fit_transform(simplified_df)\n",
    "\n",
    "knn_imputer = KNNImputer(n_neighbors=3, weights='uniform', metric='nan_euclidean')\n",
    "data_imputed = knn_imputer.fit_transform(df_min_max_scaled)\n",
    "\n",
    "descaled_data_imputed = min_max_scaler.inverse_transform(data_imputed)\n",
    "\n",
    "descaled_imputed_df = pd.DataFrame(descaled_data_imputed, columns=min_max_scaler.feature_names_in_)"
   ]
  },
  {
   "cell_type": "code",
   "execution_count": 91,
   "id": "c6601701",
   "metadata": {},
   "outputs": [
    {
     "data": {
      "text/plain": [
       "PassengerId    0\n",
       "Survived       0\n",
       "Pclass         0\n",
       "Age            0\n",
       "SibSp          0\n",
       "Parch          0\n",
       "Fare           0\n",
       "Sex_female     0\n",
       "Embarked_C     0\n",
       "Embarked_Q     0\n",
       "dtype: int64"
      ]
     },
     "execution_count": 91,
     "metadata": {},
     "output_type": "execute_result"
    }
   ],
   "source": [
    "descaled_imputed_df.isna().sum()"
   ]
  },
  {
   "cell_type": "code",
   "execution_count": 92,
   "id": "86642923",
   "metadata": {},
   "outputs": [],
   "source": [
    "descaled_imputed_df.to_csv(\"./data/train_prepared.csv\")"
   ]
  }
 ],
 "metadata": {
  "kernelspec": {
   "display_name": ".venv",
   "language": "python",
   "name": "python3"
  },
  "language_info": {
   "codemirror_mode": {
    "name": "ipython",
    "version": 3
   },
   "file_extension": ".py",
   "mimetype": "text/x-python",
   "name": "python",
   "nbconvert_exporter": "python",
   "pygments_lexer": "ipython3",
   "version": "3.13.3"
  }
 },
 "nbformat": 4,
 "nbformat_minor": 5
}
